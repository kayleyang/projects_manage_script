{
 "cells": [
  {
   "cell_type": "code",
   "execution_count": 22,
   "metadata": {
    "collapsed": true
   },
   "outputs": [],
   "source": [
    "query_redis_dependencies = '''\n",
    "select p.name, p.alias, p.leader,\n",
    "       i.name, i.pom, i.type,\n",
    "       d.groupId, d.artifactId, d.version\n",
    "from dependencies d\n",
    "right join items i on d.item_id = i.id\n",
    "right join projects p on i.project_id = p.id\n",
    "where i.is_online = 1 and i.is_offline = 0 and p.is_online = 1 and p.is_offline = 0\n",
    "and (d.artifactId = 'jedis' or d.artifactId = 'lettuce-core' or d.artifactId = 'richgo-redis-api' or d.artifactId = 'spring-boot-starter-data-redis')\n",
    "order by p.leader desc , p.name, i.name, artifactId;\n",
    "'''\n",
    "\n",
    "import pymysql\n",
    "conn = pymysql.connect(host='172.16.162.211', port=3306, user='root', password='password', database='project',\n",
    "                           charset='utf8mb4')\n",
    "cursor = conn.cursor()\n",
    "cursor.execute(query_redis_dependencies)\n",
    "results = cursor.fetchall()\n",
    "cursor.close()\n",
    "conn.close()\n"
   ]
  },
  {
   "cell_type": "code",
   "execution_count": 23,
   "outputs": [],
   "source": [
    "items = {}\n",
    "for result in results:\n",
    "\n",
    "    if items.get(result[3]) is None :\n",
    "        item = {\n",
    "            'project': result[0],\n",
    "            'alias': result[1],\n",
    "            'leader': result[2],\n",
    "            'name': result[3],\n",
    "            'pom': result[4],\n",
    "            'type': result[5],\n",
    "        }\n",
    "        items[result[3]] = item\n",
    "    else:\n",
    "        item = items[result[3]]\n",
    "\n",
    "    if result[7] == 'jedis':\n",
    "        item['jedis'] = result[8]\n",
    "    elif result[7] == 'lettuce-core':\n",
    "        item['lettuce-core'] = result[8]\n",
    "    elif result[7] == 'richgo-redis-api':\n",
    "        item['richgo-redis-api'] = result[8]\n",
    "    elif result[7] == 'spring-boot-starter-data-redis':\n",
    "        item['spring-boot-starter-data-redis'] = result[8]"
   ],
   "metadata": {
    "collapsed": false,
    "pycharm": {
     "name": "#%%\n"
    }
   }
  },
  {
   "cell_type": "code",
   "execution_count": 24,
   "outputs": [],
   "source": [
    "import openpyxl\n",
    "book = openpyxl.Workbook()\n",
    "sheet = book.create_sheet('Sheet1',0)\n",
    "sheet.column_dimensions['A'].width = 22\n",
    "sheet.column_dimensions['B'].width = 15\n",
    "sheet.column_dimensions['C'].width = 10\n",
    "sheet.column_dimensions['D'].width = 35\n",
    "sheet.column_dimensions['E'].width = 45\n",
    "sheet.column_dimensions['F'].width = 9\n",
    "sheet.column_dimensions['G'].width = 7\n",
    "sheet.column_dimensions['H'].width = 17\n",
    "sheet.column_dimensions['I'].width = 17\n",
    "sheet.column_dimensions['J'].width = 15\n",
    "sheet.column_dimensions['K'].width = 40\n",
    "titles = ['project','alias','leader', 'name', 'pom', 'type', 'jedis', 'lettuce-core', 'richgo-redis-api', 'spring-boot-starter-data-redis', '备注']\n",
    "for index, title in enumerate(titles):\n",
    "    sheet.cell(1, index + 1, title)\n",
    "for index, item in enumerate(items):\n",
    "    sheet.cell(index + 2, 1, items[item].get('project'))\n",
    "    sheet.cell(index + 2, 2, items[item].get('alias'))\n",
    "    sheet.cell(index + 2, 3, items[item].get('leader'))\n",
    "    sheet.cell(index + 2, 4, items[item].get('name'))\n",
    "    sheet.cell(index + 2, 5, items[item].get('pom'))\n",
    "    sheet.cell(index + 2, 6, items[item].get('type'))\n",
    "    sheet.cell(index + 2, 7, items[item].get('jedis'))\n",
    "    sheet.cell(index + 2, 8, items[item].get('lettuce-core'))\n",
    "    sheet.cell(index + 2, 9, items[item].get('richgo-redis-api'))\n",
    "    sheet.cell(index + 2, 10, items[item].get('spring-boot-starter-data-redis'))\n",
    "    message = []\n",
    "    if items[item].get('type') == 'pom' or items[item].get('type') == 'api' or items[item].get('type') == 'common' :\n",
    "        message.append('非运行项目')\n",
    "    if items[item].get('jedis') is not None and items[item].get('richgo-redis-api') is not None:\n",
    "        message.append('使用RedisClusterUtil')\n",
    "    if items[item].get('lettuce-core') is not None and items[item].get('spring-boot-starter-data-redis') is not None:\n",
    "        message.append('使用RedisTemplate')\n",
    "    sheet.cell(index + 2, 11, ','.join(message))\n",
    "\n",
    "book.save('redis.xlsx')\n"
   ],
   "metadata": {
    "collapsed": false,
    "pycharm": {
     "name": "#%%\n"
    }
   }
  }
 ],
 "metadata": {
  "kernelspec": {
   "display_name": "Python 3",
   "language": "python",
   "name": "python3"
  },
  "language_info": {
   "codemirror_mode": {
    "name": "ipython",
    "version": 2
   },
   "file_extension": ".py",
   "mimetype": "text/x-python",
   "name": "python",
   "nbconvert_exporter": "python",
   "pygments_lexer": "ipython2",
   "version": "2.7.6"
  }
 },
 "nbformat": 4,
 "nbformat_minor": 0
}